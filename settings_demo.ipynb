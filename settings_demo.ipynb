{
  "cells": [
    {
      "cell_type": "markdown",
      "metadata": {},
      "source": [
        "# Settings Demo Notebook\n",
        "\n",
        "This notebook demonstrates how to use the Pydantic models for AppSettings and SystemSettings.\n"
      ]
    },
    {
      "cell_type": "markdown",
      "metadata": {},
      "source": [
        "### Import the Models\n"
      ]
    },
    {
      "cell_type": "code",
      "execution_count": 1,
      "metadata": {},
      "outputs": [],
      "source": [
        "from models import AppSettings, SystemSettings\n",
        "import json\n"
      ]
    },
    {
      "cell_type": "markdown",
      "metadata": {},
      "source": [
        "### Create Settings with Default Values\n",
        "\n",
        "Let's create both AppSettings and SystemSettings instances using their default values.\n"
      ]
    },
    {
      "cell_type": "code",
      "execution_count": 2,
      "metadata": {},
      "outputs": [
        {
          "name": "stdout",
          "output_type": "stream",
          "text": [
            "{\n",
            "  \"AppSettings\": {\n",
            "    \"object_detection\": {\n",
            "      \"cnn_network\": \"DAN\",\n",
            "      \"min_object_size\": 6,\n",
            "      \"cnn_confidence_threshold\": 0.5\n",
            "    },\n",
            "    \"tracker\": {\n",
            "      \"count_min_seen\": 10,\n",
            "      \"count_max_unseen\": 20\n",
            "    }\n",
            "  }\n",
            "}\n",
            "{\n",
            "  \"SystemSettings\": {\n",
            "    \"nmea\": {\n",
            "      \"ip_address\": \"127.0.0.1\",\n",
            "      \"port\": 8080\n",
            "    }\n",
            "  }\n",
            "}\n"
          ]
        }
      ],
      "source": [
        "# Create AppSettings with default values\n",
        "app_settings = AppSettings()\n",
        "print(app_settings)\n",
        "\n",
        "# Create SystemSettings with default values\n",
        "system_settings = SystemSettings()\n",
        "print(system_settings)"
      ]
    },
    {
      "cell_type": "markdown",
      "metadata": {},
      "source": [
        "### Generate JSON Schemas\n",
        "\n",
        "Let's generate JSON schemas from our Pydantic models to document the structure.\n"
      ]
    },
    {
      "cell_type": "code",
      "execution_count": 3,
      "metadata": {},
      "outputs": [
        {
          "name": "stdout",
          "output_type": "stream",
          "text": [
            "Generating schemas...\n",
            "Schema saved: settings/AppSettings.schema.json\n",
            "Schema saved: settings/SystemSettings.schema.json\n",
            "\n",
            "=== SystemSettings JSON Schema ===\n",
            "{\n",
            "  \"$defs\": {\n",
            "    \"NMEA\": {\n",
            "      \"description\": \"NMEA configuration settings\",\n",
            "      \"properties\": {\n",
            "        \"ip_address\": {\n",
            "          \"default\": \"127.0.0.1\",\n",
            "          \"title\": \"Ip Address\",\n",
            "          \"type\": \"string\",\n",
            "          \"updatable\": false\n",
            "        },\n",
            "        \"port\": {\n",
            "          \"default\": 8080,\n",
            "          \"minimum\": 0,\n",
            "          \"title\": \"Port\",\n",
            "          \"type\": \"integer\",\n",
            "          \"updatable\": false\n",
            "        }\n",
            "      },\n",
            "      \"title\": \"NMEA\",\n",
            "      \"type\": \"object\"\n",
            "    }\n",
            "  },\n",
            "  \"description\": \"System settings model\",\n",
            "  \"properties\": {\n",
            "    \"nmea\": {\n",
            "      \"$ref\": \"#/$defs/NMEA\"\n",
            "    }\n",
            "  },\n",
            "  \"title\": \"SystemSettings\",\n",
            "  \"type\": \"object\"\n",
            "}\n"
          ]
        }
      ],
      "source": [
        "# Create settings instances\n",
        "app_settings = AppSettings()\n",
        "system_settings = SystemSettings()\n",
        "\n",
        "# Generate schemas using the mixin method\n",
        "print(\"Generating schemas...\")\n",
        "app_schema = app_settings.generate_schema(base_path=\"settings\")  # Creates AppSettings.schema.json\n",
        "system_schema = system_settings.generate_schema(base_path=\"settings\")  # Creates SystemSettings.schema.json\n",
        "\n",
        "print(\"\\n=== SystemSettings JSON Schema ===\")\n",
        "print(json.dumps(system_schema, indent=2))\n"
      ]
    },
    {
      "cell_type": "markdown",
      "metadata": {},
      "source": [
        "### Connect Generated Schemas to VS Code\n",
        "\n",
        "To enable JSON validation and autocomplete in VS Code using the generated schemas, add the following to your `.vscode/settings.json` file:\n",
        "\n",
        "```json\n",
        "{\n",
        "  \"json.schemas\": [\n",
        "    {\n",
        "      \"fileMatch\": [\"AppSettings*.json\"],\n",
        "      \"url\": \"file:/path/to/your/project/AppSettings.schema.json\"\n",
        "    },\n",
        "    {\n",
        "      \"fileMatch\": [\"SystemSettings*.json\"],\n",
        "      \"url\": \"file:/path/to/your/project/SystemSettings.schema.json\"\n",
        "    }\n",
        "  ]\n",
        "}\n",
        "```\n",
        "\n",
        "### Benefits:\n",
        "- ✅ **Autocomplete** - VS Code will suggest valid field names and values\n",
        "- ✅ **Validation** - Invalid JSON will be highlighted with errors\n",
        "- ✅ **Hover info** - Hover over fields to see descriptions and types\n",
        "- ✅ **IntelliSense** - Smart suggestions based on the schema\n",
        "\n",
        "### File Matching Patterns:\n",
        "- `AppSettings*.json` - Matches `AppSettings.json`, `AppSettings.brain.json`, `AppSettings.user.json`, etc.\n",
        "- `SystemSettings*.json` - Matches `SystemSettings.json`, `SystemSettings.user.json`, etc.\n",
        "\n",
        "### Example with Relative Paths:\n",
        "```json\n",
        "{\n",
        "  \"json.schemas\": [\n",
        "    {\n",
        "      \"fileMatch\": [\"AppSettings*.json\"],\n",
        "      \"url\": \"./schemas/AppSettings.schema.json\"\n",
        "    },\n",
        "    {\n",
        "      \"fileMatch\": [\"SystemSettings*.json\"],\n",
        "      \"url\": \"./schemas/SystemSettings.schema.json\"\n",
        "    }\n",
        "  ]\n",
        "}\n",
        "```\n",
        "\n",
        "This will make editing your settings JSON files much more pleasant with full IDE support!\n"
      ]
    },
    {
      "cell_type": "markdown",
      "metadata": {},
      "source": [
        "### Load Overrides\n",
        "Lets override the default values with custom user of product overrides"
      ]
    },
    {
      "cell_type": "code",
      "execution_count": 4,
      "metadata": {},
      "outputs": [
        {
          "name": "stdout",
          "output_type": "stream",
          "text": [
            "{\n",
            "  \"SystemSettings\": {\n",
            "    \"nmea\": {\n",
            "      \"ip_address\": \"192.168.1.100\",\n",
            "      \"port\": 2203\n",
            "    }\n",
            "  }\n",
            "}\n",
            "{\n",
            "  \"AppSettings\": {\n",
            "    \"object_detection\": {\n",
            "      \"cnn_network\": \"DAN\",\n",
            "      \"min_object_size\": 6,\n",
            "      \"cnn_confidence_threshold\": 0.9\n",
            "    },\n",
            "    \"tracker\": {\n",
            "      \"count_min_seen\": 10,\n",
            "      \"count_max_unseen\": 20\n",
            "    }\n",
            "  }\n",
            "}\n"
          ]
        }
      ],
      "source": [
        "system_settings = SystemSettings()\n",
        "system_settings = SystemSettings.load_with_overrides(\"settings/SystemSettings.user.json\")\n",
        "# Lets teh changes in the SystemSettings.user.json file were applied\n",
        "# \"nmea\": {\n",
        "#     \"ip_address\": \"192.168.1.100\",\n",
        "#     \"port\": 2203\n",
        "#   }\n",
        "print(system_settings)\n",
        "\n",
        "app_settings = AppSettings()\n",
        "app_settings = AppSettings.load_with_overrides(\"settings/AppSettings.brain.json\")\n",
        "\n",
        "# Lets say the brain is too slow and we want to change the min object size\n",
        "# \"object_detection\": {\n",
        "#     \"cnn_confidence_threshold\": 0.1,\n",
        "#     \"min_object_size\": 0\n",
        "#   }\n",
        "\n",
        "print(app_settings)"
      ]
    },
    {
      "cell_type": "markdown",
      "metadata": {},
      "source": [
        "### Updatable Fields Demo\n",
        "\n",
        "Let's demonstrate how the `updatable` field parameter works. Some fields can be overridden by user data, while others are protected.\n",
        "\n",
        "First, let's see which fields are updatable:\n"
      ]
    },
    {
      "cell_type": "markdown",
      "metadata": {},
      "source": [
        "#### Update the CNN confidence threshold (updateable)"
      ]
    },
    {
      "cell_type": "code",
      "execution_count": 5,
      "metadata": {},
      "outputs": [
        {
          "name": "stdout",
          "output_type": "stream",
          "text": [
            "{\n",
            "  \"object_detection\": {\n",
            "    \"cnn_confidence_threshold\": 0.9,\n",
            "    \"min_object_size\": 6\n",
            "  }\n",
            "}\n"
          ]
        }
      ],
      "source": [
        "# Fake a change to the AppSettings Pydantic model\n",
        "# Lets say the confidence threshold is too low and we want to change it from 0.5 to 0.9\n",
        "app_settings = AppSettings()\n",
        "app_settings.object_detection.cnn_confidence_threshold = 0.9\n",
        "\n",
        "# Update the AppSettings.brain.json file\n",
        "app_settings.update(\"settings/AppSettings.brain.json\")\n",
        "\n",
        "# Lets verify the AppSettings.brain.json file was updated\n",
        "with open(\"settings/AppSettings.brain.json\", \"r\") as f:\n",
        "    print(f.read())\n"
      ]
    },
    {
      "cell_type": "markdown",
      "metadata": {},
      "source": [
        "#### Try to update the user network settings (non-updateable)"
      ]
    },
    {
      "cell_type": "code",
      "execution_count": 6,
      "metadata": {},
      "outputs": [
        {
          "name": "stdout",
          "output_type": "stream",
          "text": [
            "Field is not updatable: annotation=str required=False default='127.0.0.1' json_schema_extra={'updatable': False}\n",
            "Field is not updatable: annotation=int required=False default=8080 json_schema_extra={'updatable': False} metadata=[Ge(ge=0)]\n",
            "{\n",
            "  \"nmea\": {\n",
            "    \"ip_address\": \"192.168.1.100\",\n",
            "    \"port\": 2203\n",
            "  }\n",
            "}\n"
          ]
        }
      ],
      "source": [
        "system_settings = SystemSettings()\n",
        " \n",
        "# Fake a change to the SystemSettings Pydantic model\n",
        "# Lets say the default ip addres should be localhost instead 127.0.0.1 and the port should be 3000 instead of 8080\n",
        "system_settings.nmea.port = 3000\n",
        "system_settings.nmea.ip_address = \"localhost\"\n",
        "\n",
        "# Save the updated settings\n",
        "system_settings.update(\"settings/SystemSettings.user.json\")\n",
        "\n",
        "# Let's verify the SystemSettings.user.json file was updated --> it was not updated because the ip_address and port are not updatable\n",
        "with open(\"settings/SystemSettings.user.json\", \"r\") as f:\n",
        "    print(f.read())"
      ]
    },
    {
      "cell_type": "markdown",
      "metadata": {},
      "source": [
        "### Calculate checksum\n",
        "Lets generate the checksum of a model to see if something has changed"
      ]
    },
    {
      "cell_type": "code",
      "execution_count": 12,
      "metadata": {},
      "outputs": [
        {
          "name": "stdout",
          "output_type": "stream",
          "text": [
            "932b35f0af958b60f5993c5e10cf941585180af34f111d1278b54de3348045c6\n",
            "0bb0a5d5469956e80f33b984d60e2d4089c96d2d510e0b4631c720101f216a6f\n"
          ]
        }
      ],
      "source": [
        "system_settings = SystemSettings()\n",
        "print(system_settings.checksum())\n",
        "\n",
        "# # Fake a change to the SystemSettings Pydantic model\n",
        "# Lets say the port should be 3000 instead of 8080\n",
        "system_settings.nmea.port = 3000\n",
        "\n",
        "print(system_settings.checksum())"
      ]
    }
  ],
  "metadata": {
    "kernelspec": {
      "display_name": ".venv",
      "language": "python",
      "name": "python3"
    },
    "language_info": {
      "codemirror_mode": {
        "name": "ipython",
        "version": 3
      },
      "file_extension": ".py",
      "mimetype": "text/x-python",
      "name": "python",
      "nbconvert_exporter": "python",
      "pygments_lexer": "ipython3",
      "version": "3.11.6"
    }
  },
  "nbformat": 4,
  "nbformat_minor": 2
}
